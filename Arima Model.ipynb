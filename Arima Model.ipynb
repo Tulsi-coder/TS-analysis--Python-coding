{
 "cells": [
  {
   "cell_type": "markdown",
   "id": "5862fe00-2261-4171-8789-72260ff19bc7",
   "metadata": {},
   "source": [
    "ARIMA (AutoRegressive Integrated Moving Average)"
   ]
  },
  {
   "cell_type": "code",
   "execution_count": 5,
   "id": "8f53dc89-4614-45f7-821d-61cf4f9231a8",
   "metadata": {},
   "outputs": [],
   "source": [
    "import pandas as pd\n",
    "from statsmodels.tsa.arima.model import ARIMA\n",
    "from matplotlib import pyplot as plt"
   ]
  },
  {
   "cell_type": "code",
   "execution_count": 7,
   "id": "6496015d-5f39-4756-8a4e-094277d03baf",
   "metadata": {},
   "outputs": [
    {
     "name": "stdout",
     "output_type": "stream",
     "text": [
      "{'Date': DatetimeIndex(['2024-01-01', '2024-01-02', '2024-01-03', '2024-01-04',\n",
      "               '2024-01-05', '2024-01-06', '2024-01-07', '2024-01-08',\n",
      "               '2024-01-09', '2024-01-10', '2024-01-11', '2024-01-12',\n",
      "               '2024-01-13', '2024-01-14', '2024-01-15', '2024-01-16',\n",
      "               '2024-01-17', '2024-01-18', '2024-01-19', '2024-01-20'],\n",
      "              dtype='datetime64[ns]', freq='D'), 'Value': [100, 102, 101, 104, 107, 110, 115, 113, 117, 119, 118, 120, 125, 130, 128, 135, 137, 140, 138, 142]}\n"
     ]
    }
   ],
   "source": [
    "#Sample data\n",
    "data = {\n",
    "    \"Date\": pd.date_range(start=\"2024-01-01\", end=\"2024-01-20\"),\n",
    "    \"Value\": [100, 102, 101, 104, 107, 110, 115, 113, 117, 119, \n",
    "              118, 120, 125, 130, 128, 135, 137, 140, 138, 142]\n",
    "}\n",
    "\n",
    "print(data)"
   ]
  },
  {
   "cell_type": "code",
   "execution_count": 9,
   "id": "b2d86979-8b46-4405-af88-a34e11fcfe21",
   "metadata": {},
   "outputs": [
    {
     "name": "stdout",
     "output_type": "stream",
     "text": [
      "[100, 102, 101, 104, 107, 110, 115, 113, 117, 119, 118, 120, 125, 130, 128, 135, 137, 140, 138, 142]\n"
     ]
    }
   ],
   "source": [
    "series = data['Value']\n",
    "print(series)"
   ]
  },
  {
   "cell_type": "code",
   "execution_count": 11,
   "id": "604ded6d-60f4-47bc-ab78-2170ba0a8008",
   "metadata": {},
   "outputs": [
    {
     "name": "stdout",
     "output_type": "stream",
     "text": [
      "                               SARIMAX Results                                \n",
      "==============================================================================\n",
      "Dep. Variable:                      y   No. Observations:                   20\n",
      "Model:                 ARIMA(2, 1, 2)   Log Likelihood                 -44.720\n",
      "Date:                Tue, 29 Apr 2025   AIC                             99.440\n",
      "Time:                        22:48:12   BIC                            104.163\n",
      "Sample:                             0   HQIC                           100.240\n",
      "                                 - 20                                         \n",
      "Covariance Type:                  opg                                         \n",
      "==============================================================================\n",
      "                 coef    std err          z      P>|z|      [0.025      0.975]\n",
      "------------------------------------------------------------------------------\n",
      "ar.L1          1.3020      0.581      2.240      0.025       0.163       2.441\n",
      "ar.L2         -0.3040      0.590     -0.515      0.607      -1.461       0.853\n",
      "ma.L1         -1.9364     14.798     -0.131      0.896     -30.940      27.067\n",
      "ma.L2          0.9917     15.339      0.065      0.948     -29.072      31.056\n",
      "sigma2         4.6627     68.666      0.068      0.946    -129.920     139.245\n",
      "===================================================================================\n",
      "Ljung-Box (L1) (Q):                   0.36   Jarque-Bera (JB):                 1.13\n",
      "Prob(Q):                              0.55   Prob(JB):                         0.57\n",
      "Heteroskedasticity (H):               1.56   Skew:                            -0.26\n",
      "Prob(H) (two-sided):                  0.60   Kurtosis:                         1.92\n",
      "===================================================================================\n",
      "\n",
      "Warnings:\n",
      "[1] Covariance matrix calculated using the outer product of gradients (complex-step).\n"
     ]
    },
    {
     "name": "stderr",
     "output_type": "stream",
     "text": [
      "C:\\Users\\kishr\\anaconda3\\Lib\\site-packages\\statsmodels\\base\\model.py:607: ConvergenceWarning: Maximum Likelihood optimization failed to converge. Check mle_retvals\n",
      "  warnings.warn(\"Maximum Likelihood optimization failed to \"\n"
     ]
    }
   ],
   "source": [
    "#Fit ARIMA\n",
    "model = ARIMA (series, order = (2,1,2))\n",
    "model_fit = model.fit()\n",
    "\n",
    "#Summary of the model\n",
    "print(model_fit.summary())"
   ]
  },
  {
   "cell_type": "code",
   "execution_count": 13,
   "id": "d5357622-db71-44a4-a62d-5f131e8c2ee9",
   "metadata": {},
   "outputs": [
    {
     "name": "stdout",
     "output_type": "stream",
     "text": [
      "[144.7290415  147.37454333 149.98956937 152.59030723 155.18170465\n",
      " 157.76528347 160.34152129 162.91057739 165.47251397 168.02736362]\n"
     ]
    }
   ],
   "source": [
    "# Forecasting\n",
    "forecast = model_fit.forecast(steps = 10)\n",
    "print(forecast)"
   ]
  },
  {
   "cell_type": "code",
   "execution_count": 15,
   "id": "1cef7074-1285-4653-8099-13bb91f34976",
   "metadata": {},
   "outputs": [
    {
     "data": {
      "image/png": "[encoded data removed]",
      "text/plain": [
       "<Figure size 640x480 with 1 Axes>"
      ]
     },
     "metadata": {},
     "output_type": "display_data"
    }
   ],
   "source": [
    "#Plot\n",
    "plt.plot(series, label = 'Original')\n",
    "plt.plot(forecast, label = 'Forecast', color= 'red')\n",
    "plt.legend()\n",
    "plt.show()"
   ]
  },
  {
   "cell_type": "code",
   "execution_count": null,
   "id": "b2bffc39-9244-40e0-99ca-c23e3fe3b3e5",
   "metadata": {},
   "outputs": [],
   "source": []
  }
 ],
 "metadata": {
  "kernelspec": {
   "display_name": "Python [conda env:base] *",
   "language": "python",
   "name": "conda-base-py"
  },
  "language_info": {
   "codemirror_mode": {
    "name": "ipython",
    "version": 3
   },
   "file_extension": ".py",
   "mimetype": "text/x-python",
   "name": "python",
   "nbconvert_exporter": "python",
   "pygments_lexer": "ipython3",
   "version": "3.12.7"
  }
 },
 "nbformat": 4,
 "nbformat_minor": 5
}
